{
 "cells": [
  {
   "cell_type": "markdown",
   "metadata": {
    "nbgrader": {
     "grade": false,
     "grade_id": "cell-fc1c39d0d6f8b82a",
     "locked": true,
     "schema_version": 1,
     "solution": false
    }
   },
   "source": [
    "# Week 13 Programming Assignment\n",
    "\n",
    "As you're working on identifying data for your final project, it's helpful to spend some time exploring your various data files.  For this week's assignment, I'd like you to take a few of the ideas from the the lectures, review assignment, and tonight's lecture to start exploring the data you plan to use for the final project.\n",
    "\n",
    "For the following activities, you can use just one of the data files that you've identified, or you can do the activities using different data files.  That's up to you.  Please describe what you're doing in a Markdown cell or in the comments of your code.  When you've completed the assignment, submit it as normal."
   ]
  },
  {
   "cell_type": "markdown",
   "metadata": {},
   "source": [
    "### 1. Basic Statistics\n",
    "\n",
    "Use Python to read in your data file and show many rows and columns your data has."
   ]
  },
  {
   "cell_type": "code",
   "execution_count": 1,
   "metadata": {},
   "outputs": [
    {
     "data": {
      "text/plain": [
       "(6120, 34)"
      ]
     },
     "execution_count": 1,
     "metadata": {},
     "output_type": "execute_result"
    }
   ],
   "source": [
    "import pandas as pd\n",
    "data = pd.read_csv('cause_of_deaths.csv')\n",
    "data.shape"
   ]
  },
  {
   "cell_type": "code",
   "execution_count": 2,
   "metadata": {},
   "outputs": [
    {
     "data": {
      "text/plain": [
       "<bound method NDFrame.head of      Country/Territory Code  Year  Meningitis  \\\n",
       "0          Afghanistan  AFG  1990        2159   \n",
       "1          Afghanistan  AFG  1991        2218   \n",
       "2          Afghanistan  AFG  1992        2475   \n",
       "3          Afghanistan  AFG  1993        2812   \n",
       "4          Afghanistan  AFG  1994        3027   \n",
       "...                ...  ...   ...         ...   \n",
       "6115          Zimbabwe  ZWE  2015        1439   \n",
       "6116          Zimbabwe  ZWE  2016        1457   \n",
       "6117          Zimbabwe  ZWE  2017        1460   \n",
       "6118          Zimbabwe  ZWE  2018        1450   \n",
       "6119          Zimbabwe  ZWE  2019        1450   \n",
       "\n",
       "      Alzheimer's Disease and Other Dementias  Parkinson's Disease  \\\n",
       "0                                        1116                  371   \n",
       "1                                        1136                  374   \n",
       "2                                        1162                  378   \n",
       "3                                        1187                  384   \n",
       "4                                        1211                  391   \n",
       "...                                       ...                  ...   \n",
       "6115                                      754                  215   \n",
       "6116                                      767                  219   \n",
       "6117                                      781                  223   \n",
       "6118                                      795                  227   \n",
       "6119                                      812                  232   \n",
       "\n",
       "      Nutritional Deficiencies  Malaria  Drowning  Interpersonal Violence  \\\n",
       "0                         2087       93      1370                    1538   \n",
       "1                         2153      189      1391                    2001   \n",
       "2                         2441      239      1514                    2299   \n",
       "3                         2837      108      1687                    2589   \n",
       "4                         3081      211      1809                    2849   \n",
       "...                        ...      ...       ...                     ...   \n",
       "6115                      3019     2518       770                    1302   \n",
       "6116                      3056     2050       801                    1342   \n",
       "6117                      2990     2116       818                    1363   \n",
       "6118                      2918     2088       825                    1396   \n",
       "6119                      2884     2068       827                    1434   \n",
       "\n",
       "      ...  Diabetes Mellitus  Chronic Kidney Disease  Poisonings  \\\n",
       "0     ...               2108                    3709         338   \n",
       "1     ...               2120                    3724         351   \n",
       "2     ...               2153                    3776         386   \n",
       "3     ...               2195                    3862         425   \n",
       "4     ...               2231                    3932         451   \n",
       "...   ...                ...                     ...         ...   \n",
       "6115  ...               3176                    2108         381   \n",
       "6116  ...               3259                    2160         393   \n",
       "6117  ...               3313                    2196         398   \n",
       "6118  ...               3381                    2240         400   \n",
       "6119  ...               3460                    2292         405   \n",
       "\n",
       "      Protein-Energy Malnutrition  Road Injuries  \\\n",
       "0                            2054           4154   \n",
       "1                            2119           4472   \n",
       "2                            2404           5106   \n",
       "3                            2797           5681   \n",
       "4                            3038           6001   \n",
       "...                           ...            ...   \n",
       "6115                         2990           2373   \n",
       "6116                         3027           2436   \n",
       "6117                         2962           2473   \n",
       "6118                         2890           2509   \n",
       "6119                         2855           2554   \n",
       "\n",
       "      Chronic Respiratory Diseases  \\\n",
       "0                             5945   \n",
       "1                             6050   \n",
       "2                             6223   \n",
       "3                             6445   \n",
       "4                             6664   \n",
       "...                            ...   \n",
       "6115                          2751   \n",
       "6116                          2788   \n",
       "6117                          2818   \n",
       "6118                          2849   \n",
       "6119                          2891   \n",
       "\n",
       "      Cirrhosis and Other Chronic Liver Diseases  Digestive Diseases  \\\n",
       "0                                           2673                5005   \n",
       "1                                           2728                5120   \n",
       "2                                           2830                5335   \n",
       "3                                           2943                5568   \n",
       "4                                           3027                5739   \n",
       "...                                          ...                 ...   \n",
       "6115                                        1956                4202   \n",
       "6116                                        1962                4264   \n",
       "6117                                        2007                4342   \n",
       "6118                                        2030                4377   \n",
       "6119                                        2065                4437   \n",
       "\n",
       "      Fire, Heat, and Hot Substances  Acute Hepatitis  \n",
       "0                                323             2985  \n",
       "1                                332             3092  \n",
       "2                                360             3325  \n",
       "3                                396             3601  \n",
       "4                                420             3816  \n",
       "...                              ...              ...  \n",
       "6115                             632              146  \n",
       "6116                             648              146  \n",
       "6117                             654              144  \n",
       "6118                             657              139  \n",
       "6119                             662              136  \n",
       "\n",
       "[6120 rows x 34 columns]>"
      ]
     },
     "execution_count": 2,
     "metadata": {},
     "output_type": "execute_result"
    }
   ],
   "source": [
    "data.head"
   ]
  },
  {
   "cell_type": "markdown",
   "metadata": {},
   "source": [
    "### 2. Data Diversity\n",
    "\n",
    "Use Python to identify how many unique values each column in your data has.  Use Python to identify which column has the greatest number of distinct values (aka the most diversity)?  If your data has a unique identifier (e.g. a person or visit or record ID) then find the column with the next most number of unique values."
   ]
  },
  {
   "cell_type": "code",
   "execution_count": 3,
   "metadata": {},
   "outputs": [
    {
     "data": {
      "text/plain": [
       "Index(['Country/Territory', 'Code', 'Year', 'Meningitis',\n",
       "       'Alzheimer's Disease and Other Dementias', 'Parkinson's Disease',\n",
       "       'Nutritional Deficiencies', 'Malaria', 'Drowning',\n",
       "       'Interpersonal Violence', 'Maternal Disorders', 'HIV/AIDS',\n",
       "       'Drug Use Disorders', 'Tuberculosis', 'Cardiovascular Diseases',\n",
       "       'Lower Respiratory Infections', 'Neonatal Disorders',\n",
       "       'Alcohol Use Disorders', 'Self-harm', 'Exposure to Forces of Nature',\n",
       "       'Diarrheal Diseases', 'Environmental Heat and Cold Exposure',\n",
       "       'Neoplasms', 'Conflict and Terrorism', 'Diabetes Mellitus',\n",
       "       'Chronic Kidney Disease', 'Poisonings', 'Protein-Energy Malnutrition',\n",
       "       'Road Injuries', 'Chronic Respiratory Diseases',\n",
       "       'Cirrhosis and Other Chronic Liver Diseases', 'Digestive Diseases',\n",
       "       'Fire, Heat, and Hot Substances', 'Acute Hepatitis'],\n",
       "      dtype='object')"
      ]
     },
     "execution_count": 3,
     "metadata": {},
     "output_type": "execute_result"
    }
   ],
   "source": [
    "data.columns"
   ]
  },
  {
   "cell_type": "code",
   "execution_count": 4,
   "metadata": {},
   "outputs": [
    {
     "data": {
      "text/plain": [
       "Country/Territory                              204\n",
       "Code                                           204\n",
       "Year                                            30\n",
       "Meningitis                                    2020\n",
       "Alzheimer's Disease and Other Dementias       3037\n",
       "Parkinson's Disease                           1817\n",
       "Nutritional Deficiencies                      2147\n",
       "Malaria                                       1723\n",
       "Drowning                                      1875\n",
       "Interpersonal Violence                        2142\n",
       "Maternal Disorders                            1818\n",
       "HIV/AIDS                                      2412\n",
       "Drug Use Disorders                             876\n",
       "Tuberculosis                                  2843\n",
       "Cardiovascular Diseases                       5225\n",
       "Lower Respiratory Infections                  4106\n",
       "Neonatal Disorders                            3553\n",
       "Alcohol Use Disorders                         1287\n",
       "Self-harm                                     2758\n",
       "Exposure to Forces of Nature                   478\n",
       "Diarrheal Diseases                            2874\n",
       "Environmental Heat and Cold Exposure           714\n",
       "Neoplasms                                     4814\n",
       "Conflict and Terrorism                         918\n",
       "Diabetes Mellitus                             3366\n",
       "Chronic Kidney Disease                        3246\n",
       "Poisonings                                    1087\n",
       "Protein-Energy Malnutrition                   2091\n",
       "Road Injuries                                 3393\n",
       "Chronic Respiratory Diseases                  3803\n",
       "Cirrhosis and Other Chronic Liver Diseases    3443\n",
       "Digestive Diseases                            4023\n",
       "Fire, Heat, and Hot Substances                1406\n",
       "Acute Hepatitis                               1059\n",
       "dtype: int64"
      ]
     },
     "execution_count": 4,
     "metadata": {},
     "output_type": "execute_result"
    }
   ],
   "source": [
    "data.nunique()"
   ]
  },
  {
   "cell_type": "markdown",
   "metadata": {},
   "source": [
    "### 3. Data Redundancy\n",
    "\n",
    "Use Python to identify any columns in your data where the value for every row is the same.  For example, if you had a gender column and all the rows said 'M', then you would want to write the code that helped you determine that."
   ]
  },
  {
   "cell_type": "code",
   "execution_count": 5,
   "metadata": {},
   "outputs": [],
   "source": [
    "for index, column in enumerate(data.columns):\n",
    "    unique_values = pd.unique(data.iloc[:, index])\n",
    "    if len(unique_values) == 1:\n",
    "        # columns with only one unique entry\n",
    "        print(\"column: {} with redundant_value: {}\".format(column, unique_values[0]))"
   ]
  },
  {
   "cell_type": "markdown",
   "metadata": {},
   "source": [
    "### 4. Range of Values\n",
    "\n",
    "Your data almost certainly has some numeric columns that can be summed or averaged.  Create a histogram that shows the distribution of values for this column."
   ]
  },
  {
   "cell_type": "code",
   "execution_count": 6,
   "metadata": {},
   "outputs": [
    {
     "name": "stdout",
     "output_type": "stream",
     "text": [
      "1719.7013071895424\n"
     ]
    }
   ],
   "source": [
    "# convert numerical column to float64\n",
    "data[\"Meningitis\"] = data[\"Meningitis\"].astype('float64')\n",
    "\n",
    "#average confidence limits\n",
    "avg_Meningitis = data[\"Meningitis\"].mean()\n",
    "print(avg_Meningitis)"
   ]
  },
  {
   "cell_type": "code",
   "execution_count": 7,
   "metadata": {},
   "outputs": [
    {
     "data": {
      "text/plain": [
       "<matplotlib.axes._subplots.AxesSubplot at 0x7f3256e73dd8>"
      ]
     },
     "execution_count": 7,
     "metadata": {},
     "output_type": "execute_result"
    },
    {
     "data": {
      "image/png": "[encoded data removed]",
      "text/plain": [
       "<Figure size 792x396 with 1 Axes>"
      ]
     },
     "metadata": {
      "needs_background": "light"
     },
     "output_type": "display_data"
    }
   ],
   "source": [
    "data['Meningitis'].hist(figsize=(11,5.5))"
   ]
  },
  {
   "cell_type": "markdown",
   "metadata": {},
   "source": [
    "### 5. Discussion\n",
    "\n",
    "Do any additional exploration of this data that you think may be interesting and include your code here.  Then go onto Slack and make a post about what you've observed.  Share your observation.  Share your code, if you like.  Share a screenshot of the data or a chart based on the data.\n",
    "\n",
    "Then comment on at least two other people's observations that they share on Slack.  (Use the reply as thread option in Slack to keep the conversation organized.)"
   ]
  },
  {
   "cell_type": "code",
   "execution_count": 8,
   "metadata": {},
   "outputs": [
    {
     "data": {
      "text/plain": [
       "Country/Territory                              object\n",
       "Code                                           object\n",
       "Year                                            int64\n",
       "Meningitis                                    float64\n",
       "Alzheimer's Disease and Other Dementias         int64\n",
       "Parkinson's Disease                             int64\n",
       "Nutritional Deficiencies                        int64\n",
       "Malaria                                         int64\n",
       "Drowning                                        int64\n",
       "Interpersonal Violence                          int64\n",
       "Maternal Disorders                              int64\n",
       "HIV/AIDS                                        int64\n",
       "Drug Use Disorders                              int64\n",
       "Tuberculosis                                    int64\n",
       "Cardiovascular Diseases                         int64\n",
       "Lower Respiratory Infections                    int64\n",
       "Neonatal Disorders                              int64\n",
       "Alcohol Use Disorders                           int64\n",
       "Self-harm                                       int64\n",
       "Exposure to Forces of Nature                    int64\n",
       "Diarrheal Diseases                              int64\n",
       "Environmental Heat and Cold Exposure            int64\n",
       "Neoplasms                                       int64\n",
       "Conflict and Terrorism                          int64\n",
       "Diabetes Mellitus                               int64\n",
       "Chronic Kidney Disease                          int64\n",
       "Poisonings                                      int64\n",
       "Protein-Energy Malnutrition                     int64\n",
       "Road Injuries                                   int64\n",
       "Chronic Respiratory Diseases                    int64\n",
       "Cirrhosis and Other Chronic Liver Diseases      int64\n",
       "Digestive Diseases                              int64\n",
       "Fire, Heat, and Hot Substances                  int64\n",
       "Acute Hepatitis                                 int64\n",
       "dtype: object"
      ]
     },
     "execution_count": 8,
     "metadata": {},
     "output_type": "execute_result"
    }
   ],
   "source": [
    "# datatypes of each column\n",
    "data.dtypes"
   ]
  },
  {
   "cell_type": "code",
   "execution_count": 9,
   "metadata": {},
   "outputs": [
    {
     "data": {
      "text/plain": [
       "<matplotlib.axes._subplots.AxesSubplot at 0x7f3254920320>"
      ]
     },
     "execution_count": 9,
     "metadata": {},
     "output_type": "execute_result"
    },
    {
     "data": {
      "image/png": "[encoded data removed]",
      "text/plain": [
       "<Figure size 432x288 with 1 Axes>"
      ]
     },
     "metadata": {
      "needs_background": "light"
     },
     "output_type": "display_data"
    }
   ],
   "source": [
    "data.plot.scatter(x='Year', y='Meningitis', color='Black')"
   ]
  },
  {
   "cell_type": "markdown",
   "metadata": {},
   "source": [
    "\n",
    "\n",
    "---\n",
    "\n",
    "\n",
    "\n",
    "## Submitting Your Work\n",
    "\n",
    "Submit your work as usual."
   ]
  },
  {
   "cell_type": "code",
   "execution_count": null,
   "metadata": {},
   "outputs": [],
   "source": []
  }
 ],
 "metadata": {
  "celltoolbar": "Create Assignment",
  "kernelspec": {
   "display_name": "Python 3",
   "language": "python",
   "name": "python3"
  },
  "language_info": {
   "codemirror_mode": {
    "name": "ipython",
    "version": 3
   },
   "file_extension": ".py",
   "mimetype": "text/x-python",
   "name": "python",
   "nbconvert_exporter": "python",
   "pygments_lexer": "ipython3",
   "version": "3.6.7"
  }
 },
 "nbformat": 4,
 "nbformat_minor": 2
}
